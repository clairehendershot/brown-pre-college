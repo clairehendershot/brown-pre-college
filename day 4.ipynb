{
 "cells": [
  {
   "cell_type": "code",
   "execution_count": 41,
   "id": "86b8f681",
   "metadata": {
    "scrolled": true
   },
   "outputs": [
    {
     "name": "stdout",
     "output_type": "stream",
     "text": [
      "Optimization terminated successfully.\n",
      "         Current function value: 0.491848\n",
      "         Iterations 6\n"
     ]
    }
   ],
   "source": [
    "import pandas as pd\n",
    "import numpy as np\n",
    "import matplotlib.pyplot as plt\n",
    "import warnings\n",
    "import os\n",
    "import joblib\n",
    "import itertools\n",
    "import subprocess\n",
    "from time import time\n",
    "from scipy import stats\n",
    "import scipy.optimize as opt\n",
    "from scipy.stats import chi2_contingency\n",
    "from sklearn.datasets import make_classification\n",
    "from sklearn.ensemble import RandomForestClassifier\n",
    "from sklearn.model_selection import train_test_split\n",
    "from sklearn.metrics import roc_curve\n",
    "from sklearn import preprocessing\n",
    "import matplotlib.pyplot as plt \n",
    "plt.rc(\"font\", size=14)\n",
    "from sklearn.linear_model import LogisticRegression\n",
    "from sklearn.model_selection import train_test_split\n",
    "import seaborn as sns\n",
    "sns.set(style=\"white\")\n",
    "sns.set(style=\"whitegrid\", color_codes=True)\n",
    "\n",
    "data = pd.read_excel('/Users/hendershot/Desktop/data science + machine learning/datasets/Upgrade.xlsx')\n",
    "\n",
    "import statsmodels.formula.api as sm\n",
    "\n",
    "import statsmodels.api as sma\n",
    "\n",
    "mylogit = sm.glm( formula = \"upgraded ~ purchases + extraCards\",\n",
    "                 data = data, \n",
    "                 family = sma.families.Binomial() ).fit()\n",
    "mylogit.summary()\n",
    "\n",
    "credittrain, credittest = train_test_split(data, train_size=0.70, random_state=1)\n",
    "\n",
    "import statsmodels.api as sm\n",
    "\n",
    "# independent and dependent variables\n",
    "xtrain = credittrain[['purchases', 'extraCards']]\n",
    "ytrain = credittrain[['upgraded']]\n",
    "\n",
    "# building model\n",
    "log_reg = sm.Logit(ytrain, xtrain).fit()"
   ]
  },
  {
   "cell_type": "code",
   "execution_count": 45,
   "id": "375bc3eb",
   "metadata": {},
   "outputs": [
    {
     "name": "stdout",
     "output_type": "stream",
     "text": [
      "<bound method BinaryResults.summary of <statsmodels.discrete.discrete_model.LogitResults object at 0x7f97487ba100>>\n"
     ]
    }
   ],
   "source": [
    "print(log_reg.summary)"
   ]
  },
  {
   "cell_type": "code",
   "execution_count": 46,
   "id": "667396e8",
   "metadata": {},
   "outputs": [
    {
     "name": "stdout",
     "output_type": "stream",
     "text": [
      "17    0.672201\n",
      "21    0.777129\n",
      "10    0.623163\n",
      "19    0.884065\n",
      "14    0.588730\n",
      "20    0.851034\n",
      "26    0.179046\n",
      "3     0.388864\n",
      "24    0.057181\n",
      "dtype: float64\n",
      "Predictions : [1, 1, 1, 1, 1, 1, 0, 0, 0]\n",
      "Confusion Matrix: \n",
      " [[2 1]\n",
      " [1 5]]\n",
      "Test accuracy =  0.7777777777777778\n"
     ]
    }
   ],
   "source": [
    "from sklearn.metrics import(confusion_matrix, accuracy_score)\n",
    "\n",
    "# independent and dependent variables \n",
    "xtest = credittest[['purchases', 'extraCards']]\n",
    "ytest = credittest['upgraded']\n",
    "\n",
    "yhat = log_reg.predict(xtest)\n",
    "prediction = list(map(round, yhat))\n",
    "\n",
    "print (yhat)\n",
    "print('Predictions :', prediction)\n",
    "\n",
    "#confusion matrix\n",
    "cm = confusion_matrix(ytest, prediction)\n",
    "print (\"Confusion Matrix: \\n\", cm)\n",
    "\n",
    "#accuracy score of model\n",
    "print('Test accuracy = ', accuracy_score(ytest, prediction))"
   ]
  },
  {
   "cell_type": "code",
   "execution_count": 43,
   "id": "df26691b",
   "metadata": {},
   "outputs": [],
   "source": [
    "# reading data"
   ]
  },
  {
   "cell_type": "code",
   "execution_count": null,
   "id": "17478961",
   "metadata": {},
   "outputs": [],
   "source": [
    "# checking for \n",
    "\n"
   ]
  }
 ],
 "metadata": {
  "kernelspec": {
   "display_name": "Python 3 (ipykernel)",
   "language": "python",
   "name": "python3"
  },
  "language_info": {
   "codemirror_mode": {
    "name": "ipython",
    "version": 3
   },
   "file_extension": ".py",
   "mimetype": "text/x-python",
   "name": "python",
   "nbconvert_exporter": "python",
   "pygments_lexer": "ipython3",
   "version": "3.9.12"
  }
 },
 "nbformat": 4,
 "nbformat_minor": 5
}
